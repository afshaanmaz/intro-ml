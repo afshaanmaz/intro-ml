{
 "cells": [
  {
   "cell_type": "code",
   "execution_count": null,
   "metadata": {},
   "outputs": [],
   "source": [
    "# define your own keras layer\n",
    "class MyRNNCell(tf.keras.layers.Layer):\n",
    "    super(MyRNNCell, self).__init__()            # what is super. Is this method calling another \n",
    "    \n",
    "    # Initialize weight matrices\n",
    "    self.W_xh = self.add_weight([rnn_units, input_dim])    \n",
    "    self.W_hh = self.add_weight([rnn_units, rnn_units])\n",
    "    self.W_hy = self.add_weight([output_dim, rnn_units])\n",
    "    \n",
    "    "
   ]
  },
  {
   "cell_type": "markdown",
   "metadata": {},
   "source": [
    " - Look up super for recursive functions \n",
    " - add_weight is a function of the tensorflow layer class what this class extends \n",
    " \n",
    " \n",
    " https://realpython.com/python-thinking-recursively/"
   ]
  }
 ],
 "metadata": {
  "kernelspec": {
   "display_name": "'Python Interactive'",
   "language": "python",
   "name": "39be05b1-76d4-420e-9b9f-22d0266156f1"
  },
  "language_info": {
   "codemirror_mode": {
    "name": "ipython",
    "version": 3
   },
   "file_extension": ".py",
   "mimetype": "text/x-python",
   "name": "python",
   "nbconvert_exporter": "python",
   "pygments_lexer": "ipython3",
   "version": "3.7.5"
  }
 },
 "nbformat": 4,
 "nbformat_minor": 4
}
